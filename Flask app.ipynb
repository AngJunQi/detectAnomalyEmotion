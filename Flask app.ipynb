{
 "cells": [
  {
   "cell_type": "code",
   "execution_count": null,
   "id": "57ff1c16",
   "metadata": {},
   "outputs": [
    {
     "name": "stdout",
     "output_type": "stream",
     "text": [
      " * Serving Flask app \"__main__\" (lazy loading)\n",
      " * Environment: production\n",
      "   WARNING: This is a development server. Do not use it in a production deployment.\n",
      "   Use a production WSGI server instead.\n",
      " * Debug mode: off\n"
     ]
    },
    {
     "name": "stderr",
     "output_type": "stream",
     "text": [
      " * Running on http://127.0.0.1:5000/ (Press CTRL+C to quit)\n",
      "127.0.0.1 - - [03/Dec/2021 03:32:16] \"\u001b[37mGET / HTTP/1.1\u001b[0m\" 200 -\n",
      "127.0.0.1 - - [03/Dec/2021 03:32:19] \"\u001b[37mGET /result HTTP/1.1\u001b[0m\" 200 -\n",
      "127.0.0.1 - - [03/Dec/2021 03:32:20] \"\u001b[33mGET /assets/img/r3.png HTTP/1.1\u001b[0m\" 404 -\n",
      "127.0.0.1 - - [03/Dec/2021 03:32:35] \"\u001b[37mGET /result HTTP/1.1\u001b[0m\" 200 -\n"
     ]
    }
   ],
   "source": [
    "from flask import Flask, render_template,url_for,request\n",
    "\n",
    "app = Flask(__name__)\n",
    "\n",
    "@app.route(\"/\")\n",
    "def home():\n",
    "    return render_template('home.html')\n",
    "\n",
    "@app.route(\"/result\")\n",
    "def result():\n",
    "    return render_template('result.html')\n",
    "\n",
    "@app.route(\"/ml\")\n",
    "def ml():\n",
    "    return render_template('ml.html')\n",
    "\n",
    "@app.route(\"/exp\")\n",
    "def exp():\n",
    "    return render_template('exp.html')\n",
    "\n",
    "@app.route(\"/result1\", methods=['POST'])\n",
    "def result1():\n",
    "    return render_template('result.html')\n",
    "\n",
    "if __name__ == \"__main__\":\n",
    "    app.run()"
   ]
  },
  {
   "cell_type": "code",
   "execution_count": null,
   "id": "fa4b4468",
   "metadata": {},
   "outputs": [],
   "source": []
  }
 ],
 "metadata": {
  "kernelspec": {
   "display_name": "Python 3",
   "language": "python",
   "name": "python3"
  },
  "language_info": {
   "codemirror_mode": {
    "name": "ipython",
    "version": 3
   },
   "file_extension": ".py",
   "mimetype": "text/x-python",
   "name": "python",
   "nbconvert_exporter": "python",
   "pygments_lexer": "ipython3",
   "version": "3.8.8"
  }
 },
 "nbformat": 4,
 "nbformat_minor": 5
}
